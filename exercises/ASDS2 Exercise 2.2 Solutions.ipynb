{
 "cells": [
  {
   "cell_type": "markdown",
   "metadata": {
    "id": "fu7YrFvpROKB",
    "tags": []
   },
   "source": [
    "# Exercise: Complexity and Style\n",
    "\n",
    "In this exercise we will first replicate a simplified form of Mosteller & Wallace's famous stylometric analysis of the disputed Federalist Papers. We will then study complexity and style in speeches by US presidents."
   ]
  },
  {
   "cell_type": "code",
   "execution_count": null,
   "metadata": {
    "colab": {
     "base_uri": "https://localhost:8080/"
    },
    "executionInfo": {
     "elapsed": 23767,
     "status": "ok",
     "timestamp": 1714130146384,
     "user": {
      "displayName": "Daniel Vigild",
      "userId": "08967762330835575953"
     },
     "user_tz": -120
    },
    "id": "34A_7NEiSFeK",
    "outputId": "fb36358b-a88a-463c-cbd7-72e229ed7b70"
   },
   "outputs": [
    {
     "name": "stdout",
     "output_type": "stream",
     "text": [
      "Requirement already satisfied: py-readability-metrics in /usr/local/lib/python3.10/dist-packages (1.4.5)\n",
      "Requirement already satisfied: nltk in /usr/local/lib/python3.10/dist-packages (from py-readability-metrics) (3.8.1)\n",
      "Requirement already satisfied: click in /usr/local/lib/python3.10/dist-packages (from nltk->py-readability-metrics) (8.1.7)\n",
      "Requirement already satisfied: joblib in /usr/local/lib/python3.10/dist-packages (from nltk->py-readability-metrics) (1.4.0)\n",
      "Requirement already satisfied: regex>=2021.8.3 in /usr/local/lib/python3.10/dist-packages (from nltk->py-readability-metrics) (2023.12.25)\n",
      "Requirement already satisfied: tqdm in /usr/local/lib/python3.10/dist-packages (from nltk->py-readability-metrics) (4.66.2)\n",
      "Requirement already satisfied: lexical-diversity in /usr/local/lib/python3.10/dist-packages (0.1.1)\n"
     ]
    }
   ],
   "source": [
    "%pip install py-readability-metrics\n",
    "%pip install lexical-diversity"
   ]
  },
  {
   "cell_type": "code",
   "execution_count": 1,
   "metadata": {
    "colab": {
     "base_uri": "https://localhost:8080/"
    },
    "executionInfo": {
     "elapsed": 6,
     "status": "ok",
     "timestamp": 1714130146384,
     "user": {
      "displayName": "Daniel Vigild",
      "userId": "08967762330835575953"
     },
     "user_tz": -120
    },
    "id": "xGuGlYcaROKK",
    "outputId": "a9f773c2-fe4e-4cdf-c3ae-b8b846154695"
   },
   "outputs": [
    {
     "name": "stderr",
     "output_type": "stream",
     "text": [
      "[nltk_data] Downloading package punkt to /Users/kzc744/nltk_data...\n",
      "[nltk_data]   Package punkt is already up-to-date!\n"
     ]
    }
   ],
   "source": [
    "import nltk\n",
    "import pandas as pd\n",
    "import numpy as np\n",
    "from sklearn.linear_model import LogisticRegression\n",
    "nltk.download('punkt')\n",
    "from nltk import word_tokenize\n",
    "from tqdm import tqdm\n",
    "import statsmodels.formula.api as smf\n",
    "from lexical_diversity import lex_div as ld\n",
    "from readability import Readability\n"
   ]
  },
  {
   "cell_type": "markdown",
   "metadata": {
    "id": "KMNjg5gNROKO"
   },
   "source": [
    "## 1: Load Mosteller & Wallace data\n",
    "\n",
    "Load the text of all federalist papers, available as 'federalist.csv' on Absalon.\n",
    "\n",
    "Paper no. 58 is attributed to Madison in the data, but Mosteller and Wallace consider this paper to have disputed authorship. Fix no. 58 to \"HAMILTON OR MADISON\" as the author."
   ]
  },
  {
   "cell_type": "code",
   "execution_count": 2,
   "metadata": {
    "id": "fsmt7VyRnr_S"
   },
   "outputs": [],
   "source": [
    "# loading data\n",
    "df = pd.read_csv(\"federalist.csv\")"
   ]
  },
  {
   "cell_type": "code",
   "execution_count": 3,
   "metadata": {
    "colab": {
     "base_uri": "https://localhost:8080/"
    },
    "executionInfo": {
     "elapsed": 12,
     "status": "ok",
     "timestamp": 1714130148106,
     "user": {
      "displayName": "Daniel Vigild",
      "userId": "08967762330835575953"
     },
     "user_tz": -120
    },
    "id": "lzqfA1Dq99ku",
    "outputId": "eba46d1e-9862-4be7-8b9b-bae392bf554f"
   },
   "outputs": [
    {
     "name": "stderr",
     "output_type": "stream",
     "text": [
      "/var/folders/nn/0k1j7fyj0qq1chkjkq4yvgm40000gn/T/ipykernel_85940/2561597535.py:1: SettingWithCopyWarning: \n",
      "A value is trying to be set on a copy of a slice from a DataFrame\n",
      "\n",
      "See the caveats in the documentation: https://pandas.pydata.org/pandas-docs/stable/user_guide/indexing.html#returning-a-view-versus-a-copy\n",
      "  df['author'][57]=\"HAMILTON OR MADISON\" #changing index 57 (for paperid 58) to madison or hamilton\n"
     ]
    }
   ],
   "source": [
    "df['author'][57]=\"HAMILTON OR MADISON\" #changing index 57 (for paperid 58) to madison or hamilton"
   ]
  },
  {
   "cell_type": "code",
   "execution_count": 4,
   "metadata": {
    "colab": {
     "base_uri": "https://localhost:8080/",
     "height": 81
    },
    "executionInfo": {
     "elapsed": 285,
     "status": "ok",
     "timestamp": 1714130148383,
     "user": {
      "displayName": "Daniel Vigild",
      "userId": "08967762330835575953"
     },
     "user_tz": -120
    },
    "id": "DPPR_89ARC5I",
    "outputId": "2454e40d-bce9-4e13-c634-6d57780912d6"
   },
   "outputs": [
    {
     "data": {
      "text/html": [
       "<div>\n",
       "<style scoped>\n",
       "    .dataframe tbody tr th:only-of-type {\n",
       "        vertical-align: middle;\n",
       "    }\n",
       "\n",
       "    .dataframe tbody tr th {\n",
       "        vertical-align: top;\n",
       "    }\n",
       "\n",
       "    .dataframe thead th {\n",
       "        text-align: right;\n",
       "    }\n",
       "</style>\n",
       "<table border=\"1\" class=\"dataframe\">\n",
       "  <thead>\n",
       "    <tr style=\"text-align: right;\">\n",
       "      <th></th>\n",
       "      <th>author</th>\n",
       "      <th>text</th>\n",
       "      <th>date</th>\n",
       "      <th>title</th>\n",
       "      <th>paper_id</th>\n",
       "      <th>venue</th>\n",
       "    </tr>\n",
       "  </thead>\n",
       "  <tbody>\n",
       "    <tr>\n",
       "      <th>57</th>\n",
       "      <td>HAMILTON OR MADISON</td>\n",
       "      <td>To the People of the State of New York:\\n\\nTHE...</td>\n",
       "      <td>NaN</td>\n",
       "      <td>Objection That The Number of Members Will Not ...</td>\n",
       "      <td>58</td>\n",
       "      <td>NaN</td>\n",
       "    </tr>\n",
       "  </tbody>\n",
       "</table>\n",
       "</div>"
      ],
      "text/plain": [
       "                 author                                               text  \\\n",
       "57  HAMILTON OR MADISON  To the People of the State of New York:\\n\\nTHE...   \n",
       "\n",
       "   date                                              title  paper_id venue  \n",
       "57  NaN  Objection That The Number of Members Will Not ...        58   NaN  "
      ]
     },
     "execution_count": 4,
     "metadata": {},
     "output_type": "execute_result"
    }
   ],
   "source": [
    "df[57:58]"
   ]
  },
  {
   "cell_type": "markdown",
   "metadata": {
    "id": "OHoLf7VOROKP"
   },
   "source": [
    "## 2: Stylometric feature engineering\n",
    "\n",
    "To help ourselves a bit, we will lean on Mosteller & Wallace's finding that  Madison tended to use the word \"whilst\", while Hamilton would tend to use the word \"while\" in similar contexts. Call the number of uses of \"whilst\" in a text $wh_1$ and the number of \"while\" counts $wh_2$. For each text, calculate the metric\n",
    "\n",
    "$$\n",
    "whfrac = log( \\frac{wh_1 +1}{wh_2 +1} )\n",
    "$$\n",
    "\n",
    "This is a so-called regularized log odds ratio. The +1s in the numerator and denominator are regularization terms, and are arbitratily set at 1 here. You can optionally  verify that $whfrac$ follows a nice symmetrical distribution."
   ]
  },
  {
   "cell_type": "code",
   "execution_count": 6,
   "metadata": {
    "id": "nvIhRLbmSOBb"
   },
   "outputs": [],
   "source": [
    "# count occurences of whilst/while in each text\n",
    "df['wh1'] = df.text.apply(lambda x: str(x).split().count(\"whilst\"))\n",
    "df['wh2'] = df.text.apply(lambda x: str(x).split().count(\"while\"))\n",
    "df['whfrac'] = np.log((df['wh1']+1)/(df['wh2']+1))\n"
   ]
  },
  {
   "cell_type": "code",
   "execution_count": 7,
   "metadata": {
    "colab": {
     "base_uri": "https://localhost:8080/",
     "height": 238
    },
    "executionInfo": {
     "elapsed": 11,
     "status": "ok",
     "timestamp": 1714130148384,
     "user": {
      "displayName": "Daniel Vigild",
      "userId": "08967762330835575953"
     },
     "user_tz": -120
    },
    "id": "bS2qWsB_T3Vi",
    "outputId": "eff49f52-7b0b-4d45-bdcf-3e9431023ff0"
   },
   "outputs": [
    {
     "data": {
      "text/html": [
       "<div>\n",
       "<style scoped>\n",
       "    .dataframe tbody tr th:only-of-type {\n",
       "        vertical-align: middle;\n",
       "    }\n",
       "\n",
       "    .dataframe tbody tr th {\n",
       "        vertical-align: top;\n",
       "    }\n",
       "\n",
       "    .dataframe thead th {\n",
       "        text-align: right;\n",
       "    }\n",
       "</style>\n",
       "<table border=\"1\" class=\"dataframe\">\n",
       "  <thead>\n",
       "    <tr style=\"text-align: right;\">\n",
       "      <th></th>\n",
       "      <th>wh1</th>\n",
       "      <th>wh2</th>\n",
       "      <th>whfrac</th>\n",
       "    </tr>\n",
       "    <tr>\n",
       "      <th>author</th>\n",
       "      <th></th>\n",
       "      <th></th>\n",
       "      <th></th>\n",
       "    </tr>\n",
       "  </thead>\n",
       "  <tbody>\n",
       "    <tr>\n",
       "      <th>HAMILTON</th>\n",
       "      <td>0.019608</td>\n",
       "      <td>0.647059</td>\n",
       "      <td>-0.330341</td>\n",
       "    </tr>\n",
       "    <tr>\n",
       "      <th>HAMILTON AND MADISON</th>\n",
       "      <td>0.333333</td>\n",
       "      <td>0.000000</td>\n",
       "      <td>0.231049</td>\n",
       "    </tr>\n",
       "    <tr>\n",
       "      <th>HAMILTON OR MADISON</th>\n",
       "      <td>0.500000</td>\n",
       "      <td>0.000000</td>\n",
       "      <td>0.322600</td>\n",
       "    </tr>\n",
       "    <tr>\n",
       "      <th>JAY</th>\n",
       "      <td>0.000000</td>\n",
       "      <td>0.400000</td>\n",
       "      <td>-0.277259</td>\n",
       "    </tr>\n",
       "    <tr>\n",
       "      <th>MADISON</th>\n",
       "      <td>0.714286</td>\n",
       "      <td>0.000000</td>\n",
       "      <td>0.454008</td>\n",
       "    </tr>\n",
       "  </tbody>\n",
       "</table>\n",
       "</div>"
      ],
      "text/plain": [
       "                           wh1       wh2    whfrac\n",
       "author                                            \n",
       "HAMILTON              0.019608  0.647059 -0.330341\n",
       "HAMILTON AND MADISON  0.333333  0.000000  0.231049\n",
       "HAMILTON OR MADISON   0.500000  0.000000  0.322600\n",
       "JAY                   0.000000  0.400000 -0.277259\n",
       "MADISON               0.714286  0.000000  0.454008"
      ]
     },
     "execution_count": 7,
     "metadata": {},
     "output_type": "execute_result"
    }
   ],
   "source": [
    "# inspect wh1, wh2 and whfrac\n",
    "df.groupby('author')[['wh1','wh2','whfrac']].mean()"
   ]
  },
  {
   "cell_type": "markdown",
   "metadata": {
    "id": "LhQx6VHSfUWY"
   },
   "source": [
    "It seems to have worked! Indeed it is the case, that Madison writes 'whilst' a lot, whilst/while Hamilton has a preference for 'while'."
   ]
  },
  {
   "cell_type": "markdown",
   "metadata": {
    "id": "uogDkumuROKQ"
   },
   "source": [
    "## 3: Testing predictiveness\n",
    "\n",
    "The disputed papers are papers 49 to 58, 62, and 63. Create separate data frames for the disputed and undisputed papers.\n",
    "\n",
    "Among the undisputed papers, create a dummy variable  indicating whether the text was written by Madison  vs. anyone  else.\n",
    "\n",
    "Fit a logistic regression model with this new indicator as the dependent variable and $whfrac$ as  the independent variable. What does the model tell you about the predictiveness of the use of 'whilst' vs. 'while'?"
   ]
  },
  {
   "cell_type": "code",
   "execution_count": 8,
   "metadata": {
    "id": "I2GRiZo2iSFu"
   },
   "outputs": [],
   "source": [
    "# disputed papers\n",
    "df_disp = df[df['author']==\"HAMILTON OR MADISON\"]\n",
    "# undisputed papers\n",
    "df_no_disp = df[df['author']!=\"HAMILTON OR MADISON\"]"
   ]
  },
  {
   "cell_type": "code",
   "execution_count": 9,
   "metadata": {
    "colab": {
     "base_uri": "https://localhost:8080/"
    },
    "executionInfo": {
     "elapsed": 11,
     "status": "ok",
     "timestamp": 1714130148385,
     "user": {
      "displayName": "Daniel Vigild",
      "userId": "08967762330835575953"
     },
     "user_tz": -120
    },
    "id": "cO3JD2k4JAh2",
    "outputId": "40c0d5cf-0273-49c3-8457-d6abaf9c494b"
   },
   "outputs": [
    {
     "name": "stderr",
     "output_type": "stream",
     "text": [
      "/var/folders/nn/0k1j7fyj0qq1chkjkq4yvgm40000gn/T/ipykernel_85940/2682075658.py:2: SettingWithCopyWarning: \n",
      "A value is trying to be set on a copy of a slice from a DataFrame.\n",
      "Try using .loc[row_indexer,col_indexer] = value instead\n",
      "\n",
      "See the caveats in the documentation: https://pandas.pydata.org/pandas-docs/stable/user_guide/indexing.html#returning-a-view-versus-a-copy\n",
      "  df_no_disp['mad_dummy'] = df_no_disp['author'].apply(lambda x: (x=='MADISON')*1)\n"
     ]
    }
   ],
   "source": [
    "#creating dummy for Madison as author\n",
    "df_no_disp['mad_dummy'] = df_no_disp['author'].apply(lambda x: (x=='MADISON')*1)"
   ]
  },
  {
   "cell_type": "code",
   "execution_count": 10,
   "metadata": {
    "colab": {
     "base_uri": "https://localhost:8080/"
    },
    "executionInfo": {
     "elapsed": 11,
     "status": "ok",
     "timestamp": 1714130148386,
     "user": {
      "displayName": "Daniel Vigild",
      "userId": "08967762330835575953"
     },
     "user_tz": -120
    },
    "id": "4jHanCY7KBIg",
    "outputId": "70ede82d-d4a7-444c-953c-47c45e1397e6"
   },
   "outputs": [
    {
     "name": "stdout",
     "output_type": "stream",
     "text": [
      "The coefficient of whfrac is:  2.435144121959235\n",
      "The accuracy of the model is:  0.9041095890410958\n"
     ]
    }
   ],
   "source": [
    "X = df_no_disp.whfrac.values.reshape(-1,1)\n",
    "y = df_no_disp.mad_dummy.values\n",
    "\n",
    "clf = LogisticRegression(random_state=0).fit(X, y)\n",
    "\n",
    "print(\"The coefficient of whfrac is: \", clf.coef_[0][0])\n",
    "print(\"The accuracy of the model is: \", clf.score(X, y))"
   ]
  },
  {
   "cell_type": "markdown",
   "metadata": {
    "id": "dLRowtQvPO7J"
   },
   "source": [
    "As we saw previously, using \"*whilst* \" more than \"*while* \" results in a *whfrac* above zero. The results from the model suggest a strong and positive relation between *whfrac* and the indicator for Madison as author, with high predictive power. Since we know that Madison indeed has a tendency to use \"*whilst* \" a lot, this tells us that the stylometric feature we have created here is good for the purpose of predicting authorship, and thus shedding light on a previously latent variable of disputed authorship!     "
   ]
  },
  {
   "cell_type": "markdown",
   "metadata": {
    "id": "Lk1MabBVROKR"
   },
   "source": [
    "## 4: Predicting authorship\n",
    "\n",
    "Using the logistic regression model, calculate the predicted probability of Madison authorship among the disputed papers using the  $whfrac$  indicator. What do the predictions indicate about the author of the disputed federalist papers? How could this stylometric analysis be improved?"
   ]
  },
  {
   "cell_type": "code",
   "execution_count": 11,
   "metadata": {
    "colab": {
     "base_uri": "https://localhost:8080/",
     "height": 530
    },
    "executionInfo": {
     "elapsed": 365,
     "status": "ok",
     "timestamp": 1714130148741,
     "user": {
      "displayName": "Daniel Vigild",
      "userId": "08967762330835575953"
     },
     "user_tz": -120
    },
    "id": "OJ-xrEAQRVwO",
    "outputId": "6108a3a8-7b67-4068-b074-edb59edce5c4"
   },
   "outputs": [
    {
     "name": "stderr",
     "output_type": "stream",
     "text": [
      "/var/folders/nn/0k1j7fyj0qq1chkjkq4yvgm40000gn/T/ipykernel_85940/1661899344.py:3: SettingWithCopyWarning: \n",
      "A value is trying to be set on a copy of a slice from a DataFrame.\n",
      "Try using .loc[row_indexer,col_indexer] = value instead\n",
      "\n",
      "See the caveats in the documentation: https://pandas.pydata.org/pandas-docs/stable/user_guide/indexing.html#returning-a-view-versus-a-copy\n",
      "  df_disp['prob_mad']=clf.predict_proba(X)[:,1]\n"
     ]
    },
    {
     "data": {
      "text/html": [
       "<div>\n",
       "<style scoped>\n",
       "    .dataframe tbody tr th:only-of-type {\n",
       "        vertical-align: middle;\n",
       "    }\n",
       "\n",
       "    .dataframe tbody tr th {\n",
       "        vertical-align: top;\n",
       "    }\n",
       "\n",
       "    .dataframe thead th {\n",
       "        text-align: right;\n",
       "    }\n",
       "</style>\n",
       "<table border=\"1\" class=\"dataframe\">\n",
       "  <thead>\n",
       "    <tr style=\"text-align: right;\">\n",
       "      <th></th>\n",
       "      <th>author</th>\n",
       "      <th>text</th>\n",
       "      <th>date</th>\n",
       "      <th>title</th>\n",
       "      <th>paper_id</th>\n",
       "      <th>venue</th>\n",
       "      <th>wh1</th>\n",
       "      <th>wh2</th>\n",
       "      <th>whfrac</th>\n",
       "      <th>prob_mad</th>\n",
       "    </tr>\n",
       "  </thead>\n",
       "  <tbody>\n",
       "    <tr>\n",
       "      <th>48</th>\n",
       "      <td>HAMILTON OR MADISON</td>\n",
       "      <td>To the People of the State of New York:\\n\\nTHE...</td>\n",
       "      <td>Tuesday, February 5, 1788</td>\n",
       "      <td>Method of Guarding Against the Encroachments o...</td>\n",
       "      <td>49</td>\n",
       "      <td>From the New York Packet</td>\n",
       "      <td>1</td>\n",
       "      <td>0</td>\n",
       "      <td>0.693147</td>\n",
       "      <td>0.544638</td>\n",
       "    </tr>\n",
       "    <tr>\n",
       "      <th>49</th>\n",
       "      <td>HAMILTON OR MADISON</td>\n",
       "      <td>To the People of the State of New York:\\n\\nIT ...</td>\n",
       "      <td>Tuesday, February 5, 1788</td>\n",
       "      <td>Periodical Appeals to the People Considered</td>\n",
       "      <td>50</td>\n",
       "      <td>From the New York Packet</td>\n",
       "      <td>0</td>\n",
       "      <td>0</td>\n",
       "      <td>0.000000</td>\n",
       "      <td>0.181104</td>\n",
       "    </tr>\n",
       "    <tr>\n",
       "      <th>50</th>\n",
       "      <td>HAMILTON OR MADISON</td>\n",
       "      <td>To the People of the State of New York:\\n\\nTO ...</td>\n",
       "      <td>Friday, February 8, 1788</td>\n",
       "      <td>The Structure of the Government Must Furnish t...</td>\n",
       "      <td>51</td>\n",
       "      <td>From the New York Packet</td>\n",
       "      <td>1</td>\n",
       "      <td>0</td>\n",
       "      <td>0.693147</td>\n",
       "      <td>0.544638</td>\n",
       "    </tr>\n",
       "    <tr>\n",
       "      <th>51</th>\n",
       "      <td>HAMILTON OR MADISON</td>\n",
       "      <td>To the People of the State of New York:\\n\\nFRO...</td>\n",
       "      <td>Friday, February 8, 1788</td>\n",
       "      <td>The House of Representatives</td>\n",
       "      <td>52</td>\n",
       "      <td>From the New York Packet</td>\n",
       "      <td>0</td>\n",
       "      <td>0</td>\n",
       "      <td>0.000000</td>\n",
       "      <td>0.181104</td>\n",
       "    </tr>\n",
       "    <tr>\n",
       "      <th>52</th>\n",
       "      <td>HAMILTON OR MADISON</td>\n",
       "      <td>To the People of the State of New York:\\n\\nI S...</td>\n",
       "      <td>Tuesday, February 12, 1788</td>\n",
       "      <td>The Same Subject Continued (The House of Repre...</td>\n",
       "      <td>53</td>\n",
       "      <td>From the New York Packet</td>\n",
       "      <td>1</td>\n",
       "      <td>0</td>\n",
       "      <td>0.693147</td>\n",
       "      <td>0.544638</td>\n",
       "    </tr>\n",
       "    <tr>\n",
       "      <th>53</th>\n",
       "      <td>HAMILTON OR MADISON</td>\n",
       "      <td>To the People of the State of New York:\\n\\nTHE...</td>\n",
       "      <td>Tuesday, February 12, 1788</td>\n",
       "      <td>The Apportionment of Members Among the States</td>\n",
       "      <td>54</td>\n",
       "      <td>From the New York Packet</td>\n",
       "      <td>0</td>\n",
       "      <td>0</td>\n",
       "      <td>0.000000</td>\n",
       "      <td>0.181104</td>\n",
       "    </tr>\n",
       "    <tr>\n",
       "      <th>54</th>\n",
       "      <td>HAMILTON OR MADISON</td>\n",
       "      <td>To the People of the State of New York:\\n\\nTHE...</td>\n",
       "      <td>Friday, February 15, 1788</td>\n",
       "      <td>The Total Number of the House of Representatives</td>\n",
       "      <td>55</td>\n",
       "      <td>From the New York Packet</td>\n",
       "      <td>0</td>\n",
       "      <td>0</td>\n",
       "      <td>0.000000</td>\n",
       "      <td>0.181104</td>\n",
       "    </tr>\n",
       "    <tr>\n",
       "      <th>55</th>\n",
       "      <td>HAMILTON OR MADISON</td>\n",
       "      <td>To the People of the State of New York:\\n\\nTHE...</td>\n",
       "      <td>Tuesday, February 19, 1788</td>\n",
       "      <td>The Same Subject Continued (The Total Number o...</td>\n",
       "      <td>56</td>\n",
       "      <td>From the New York Packet</td>\n",
       "      <td>0</td>\n",
       "      <td>0</td>\n",
       "      <td>0.000000</td>\n",
       "      <td>0.181104</td>\n",
       "    </tr>\n",
       "    <tr>\n",
       "      <th>56</th>\n",
       "      <td>HAMILTON OR MADISON</td>\n",
       "      <td>To the People of the State of New York:\\n\\nTHE...</td>\n",
       "      <td>Tuesday, February 19, 1788</td>\n",
       "      <td>The Alleged Tendency of the New Plan to Elevat...</td>\n",
       "      <td>57</td>\n",
       "      <td>From the New York Packet</td>\n",
       "      <td>2</td>\n",
       "      <td>0</td>\n",
       "      <td>1.098612</td>\n",
       "      <td>0.762493</td>\n",
       "    </tr>\n",
       "    <tr>\n",
       "      <th>57</th>\n",
       "      <td>HAMILTON OR MADISON</td>\n",
       "      <td>To the People of the State of New York:\\n\\nTHE...</td>\n",
       "      <td>NaN</td>\n",
       "      <td>Objection That The Number of Members Will Not ...</td>\n",
       "      <td>58</td>\n",
       "      <td>NaN</td>\n",
       "      <td>0</td>\n",
       "      <td>0</td>\n",
       "      <td>0.000000</td>\n",
       "      <td>0.181104</td>\n",
       "    </tr>\n",
       "    <tr>\n",
       "      <th>61</th>\n",
       "      <td>HAMILTON OR MADISON</td>\n",
       "      <td>To the People of the State of New York:\\n\\nHAV...</td>\n",
       "      <td>NaN</td>\n",
       "      <td>The Senate</td>\n",
       "      <td>62</td>\n",
       "      <td>For the Independent Journal</td>\n",
       "      <td>0</td>\n",
       "      <td>0</td>\n",
       "      <td>0.000000</td>\n",
       "      <td>0.181104</td>\n",
       "    </tr>\n",
       "    <tr>\n",
       "      <th>62</th>\n",
       "      <td>HAMILTON OR MADISON</td>\n",
       "      <td>To the People of the State of New York:\\n\\nA F...</td>\n",
       "      <td>NaN</td>\n",
       "      <td>The Senate Continued</td>\n",
       "      <td>63</td>\n",
       "      <td>For the Independent Journal</td>\n",
       "      <td>1</td>\n",
       "      <td>0</td>\n",
       "      <td>0.693147</td>\n",
       "      <td>0.544638</td>\n",
       "    </tr>\n",
       "  </tbody>\n",
       "</table>\n",
       "</div>"
      ],
      "text/plain": [
       "                 author                                               text  \\\n",
       "48  HAMILTON OR MADISON  To the People of the State of New York:\\n\\nTHE...   \n",
       "49  HAMILTON OR MADISON  To the People of the State of New York:\\n\\nIT ...   \n",
       "50  HAMILTON OR MADISON  To the People of the State of New York:\\n\\nTO ...   \n",
       "51  HAMILTON OR MADISON  To the People of the State of New York:\\n\\nFRO...   \n",
       "52  HAMILTON OR MADISON  To the People of the State of New York:\\n\\nI S...   \n",
       "53  HAMILTON OR MADISON  To the People of the State of New York:\\n\\nTHE...   \n",
       "54  HAMILTON OR MADISON  To the People of the State of New York:\\n\\nTHE...   \n",
       "55  HAMILTON OR MADISON  To the People of the State of New York:\\n\\nTHE...   \n",
       "56  HAMILTON OR MADISON  To the People of the State of New York:\\n\\nTHE...   \n",
       "57  HAMILTON OR MADISON  To the People of the State of New York:\\n\\nTHE...   \n",
       "61  HAMILTON OR MADISON  To the People of the State of New York:\\n\\nHAV...   \n",
       "62  HAMILTON OR MADISON  To the People of the State of New York:\\n\\nA F...   \n",
       "\n",
       "                          date  \\\n",
       "48   Tuesday, February 5, 1788   \n",
       "49   Tuesday, February 5, 1788   \n",
       "50    Friday, February 8, 1788   \n",
       "51    Friday, February 8, 1788   \n",
       "52  Tuesday, February 12, 1788   \n",
       "53  Tuesday, February 12, 1788   \n",
       "54   Friday, February 15, 1788   \n",
       "55  Tuesday, February 19, 1788   \n",
       "56  Tuesday, February 19, 1788   \n",
       "57                         NaN   \n",
       "61                         NaN   \n",
       "62                         NaN   \n",
       "\n",
       "                                                title  paper_id  \\\n",
       "48  Method of Guarding Against the Encroachments o...        49   \n",
       "49        Periodical Appeals to the People Considered        50   \n",
       "50  The Structure of the Government Must Furnish t...        51   \n",
       "51                       The House of Representatives        52   \n",
       "52  The Same Subject Continued (The House of Repre...        53   \n",
       "53      The Apportionment of Members Among the States        54   \n",
       "54   The Total Number of the House of Representatives        55   \n",
       "55  The Same Subject Continued (The Total Number o...        56   \n",
       "56  The Alleged Tendency of the New Plan to Elevat...        57   \n",
       "57  Objection That The Number of Members Will Not ...        58   \n",
       "61                                         The Senate        62   \n",
       "62                               The Senate Continued        63   \n",
       "\n",
       "                          venue  wh1  wh2    whfrac  prob_mad  \n",
       "48     From the New York Packet    1    0  0.693147  0.544638  \n",
       "49     From the New York Packet    0    0  0.000000  0.181104  \n",
       "50     From the New York Packet    1    0  0.693147  0.544638  \n",
       "51     From the New York Packet    0    0  0.000000  0.181104  \n",
       "52     From the New York Packet    1    0  0.693147  0.544638  \n",
       "53     From the New York Packet    0    0  0.000000  0.181104  \n",
       "54     From the New York Packet    0    0  0.000000  0.181104  \n",
       "55     From the New York Packet    0    0  0.000000  0.181104  \n",
       "56     From the New York Packet    2    0  1.098612  0.762493  \n",
       "57                          NaN    0    0  0.000000  0.181104  \n",
       "61  For the Independent Journal    0    0  0.000000  0.181104  \n",
       "62  For the Independent Journal    1    0  0.693147  0.544638  "
      ]
     },
     "execution_count": 11,
     "metadata": {},
     "output_type": "execute_result"
    }
   ],
   "source": [
    "X = df_disp.whfrac.values.reshape(-1,1)\n",
    "\n",
    "df_disp['prob_mad']=clf.predict_proba(X)[:,1]\n",
    "df_disp"
   ]
  },
  {
   "cell_type": "markdown",
   "metadata": {
    "id": "QmPxcgAW55o3"
   },
   "source": [
    "From the predictions it seems to be the case that many of the disputed papers are more likely to be Madison's papers. However, this is based solely on the use of \"*whilst* \", since it is the case that \"*while* \" is not used in any of the texts, as is evident in the $wh2$-feature. So, to improve stylometric analysis, one could find more traits from the idiosyncratic styles of Madison and Hamilton, and add these as features to be included in the regressions."
   ]
  },
  {
   "cell_type": "markdown",
   "metadata": {
    "id": "iLOrpnYTROKS"
   },
   "source": [
    "We now turn to a different topic, analyzing complexity in rhetorical style among US  presidents.\n",
    "\n",
    "## 5: Retrieve US presidential speech data\n",
    "\n",
    "The Miller Center of Public Affairs at University of Virginia hosts a collection of speeches by US presidents. Follow the directions here to retrieve the data in JSON format: https://data.millercenter.org/"
   ]
  },
  {
   "cell_type": "markdown",
   "metadata": {
    "id": "7i6RfGH5ROKT"
   },
   "source": [
    "## 6: Formatting data\n",
    "\n",
    "The speeches are downloaded from the Miller Center in JSON format. Load the speeches as a data frame."
   ]
  },
  {
   "cell_type": "code",
   "execution_count": 12,
   "metadata": {
    "id": "dHafC1VKROKU"
   },
   "outputs": [],
   "source": [
    "import pandas as pd\n",
    "\n",
    "spdf = pd.read_json('speeches.json')\n"
   ]
  },
  {
   "cell_type": "markdown",
   "metadata": {
    "id": "Zz5T9R3IROKW"
   },
   "source": [
    "For simplicity we want to compare only speeches by Obama and subsequent presidents, so subset to speeches given in 2009 or later."
   ]
  },
  {
   "cell_type": "code",
   "execution_count": 13,
   "metadata": {
    "id": "3TA6xZTn-3sE"
   },
   "outputs": [],
   "source": [
    "import datetime\n",
    "presidents = ['Joe Biden','Donald Trump','Barack Obama']\n",
    "spdf=spdf[spdf['president'].isin(presidents)]\n"
   ]
  },
  {
   "cell_type": "code",
   "execution_count": 14,
   "metadata": {
    "id": "PpiH0xx3_24C"
   },
   "outputs": [],
   "source": [
    "spdf.date=pd.to_datetime(spdf['date'], errors='coerce')\n",
    "spdf = spdf.dropna(subset=['date'])\n",
    "spdf = spdf[spdf['date']>\"2009-01-01\"]"
   ]
  },
  {
   "cell_type": "markdown",
   "metadata": {
    "id": "gxgZ6SoGROKX"
   },
   "source": [
    "## 7: Lexical diversity\n",
    "\n",
    "Lowercase and tokenize the text of each speech, then calculate the type-token ratio (TTR) for each speech. Use the ld.ttr()-function from the imported lexical diversity package.\n"
   ]
  },
  {
   "cell_type": "code",
   "execution_count": 15,
   "metadata": {
    "id": "q0oamsc-PvWP"
   },
   "outputs": [],
   "source": [
    "# lowercase\n",
    "spdf['transcript_lowercase'] = spdf['transcript'].str.lower()\n",
    "# tokenizing\n",
    "spdf['transcript_tokenized'] = spdf['transcript_lowercase'].apply(lambda x: word_tokenize(x))"
   ]
  },
  {
   "cell_type": "code",
   "execution_count": 16,
   "metadata": {
    "id": "az14lpyP83qQ"
   },
   "outputs": [],
   "source": [
    "spdf['ttr'] = spdf['transcript_tokenized'].apply(lambda x: ld.ttr(x))"
   ]
  },
  {
   "cell_type": "code",
   "execution_count": 17,
   "metadata": {
    "colab": {
     "base_uri": "https://localhost:8080/"
    },
    "executionInfo": {
     "elapsed": 12,
     "status": "ok",
     "timestamp": 1714130160103,
     "user": {
      "displayName": "Daniel Vigild",
      "userId": "08967762330835575953"
     },
     "user_tz": -120
    },
    "id": "uuKI3i-f83uP",
    "outputId": "bd81e980-dfc4-437a-f53c-50ff8259e349"
   },
   "outputs": [
    {
     "name": "stdout",
     "output_type": "stream",
     "text": [
      "0.0933911556315661\n",
      "0.48484848484848486\n",
      "0.2522111943788095\n"
     ]
    }
   ],
   "source": [
    "#inspecting calulated values\n",
    "print(min(spdf.ttr))\n",
    "print(max(spdf.ttr))\n",
    "print((spdf.ttr.mean()))"
   ]
  },
  {
   "cell_type": "markdown",
   "metadata": {
    "id": "3qykX1ceROKX"
   },
   "source": [
    "Regress TTR on president, so you can compare TTR across Obama, Trump, and Biden. How do the presidents differ in terms of lexical diversity?"
   ]
  },
  {
   "cell_type": "code",
   "execution_count": 18,
   "metadata": {
    "colab": {
     "base_uri": "https://localhost:8080/"
    },
    "executionInfo": {
     "elapsed": 354,
     "status": "ok",
     "timestamp": 1714130160446,
     "user": {
      "displayName": "Daniel Vigild",
      "userId": "08967762330835575953"
     },
     "user_tz": -120
    },
    "id": "B3pjtEet-hIx",
    "outputId": "7d841b8c-f219-4fdb-e055-6f0db92cd392"
   },
   "outputs": [
    {
     "name": "stdout",
     "output_type": "stream",
     "text": [
      "                            OLS Regression Results                            \n",
      "==============================================================================\n",
      "Dep. Variable:                    ttr   R-squared:                       0.010\n",
      "Model:                            OLS   Adj. R-squared:                 -0.008\n",
      "Method:                 Least Squares   F-statistic:                    0.5562\n",
      "Date:                Fri, 26 Apr 2024   Prob (F-statistic):              0.575\n",
      "Time:                        15:46:17   Log-Likelihood:                 126.44\n",
      "No. Observations:                 112   AIC:                            -246.9\n",
      "Df Residuals:                     109   BIC:                            -238.7\n",
      "Df Model:                           2                                         \n",
      "Covariance Type:            nonrobust                                         \n",
      "================================================================================================\n",
      "                                   coef    std err          t      P>|t|      [0.025      0.975]\n",
      "------------------------------------------------------------------------------------------------\n",
      "Intercept                        0.2483      0.011     21.687      0.000       0.226       0.271\n",
      "C(president)[T.Donald Trump]     0.0135      0.017      0.809      0.420      -0.020       0.046\n",
      "C(president)[T.Joe Biden]       -0.0066      0.021     -0.319      0.750      -0.048       0.034\n",
      "==============================================================================\n",
      "Omnibus:                        4.195   Durbin-Watson:                   1.746\n",
      "Prob(Omnibus):                  0.123   Jarque-Bera (JB):                3.564\n",
      "Skew:                           0.389   Prob(JB):                        0.168\n",
      "Kurtosis:                       3.398   Cond. No.                         3.53\n",
      "==============================================================================\n",
      "\n",
      "Notes:\n",
      "[1] Standard Errors assume that the covariance matrix of the errors is correctly specified.\n"
     ]
    }
   ],
   "source": [
    "model = smf.ols(formula='ttr ~ C(president)', data=spdf).fit()\n",
    "\n",
    "print(model.summary())"
   ]
  },
  {
   "cell_type": "markdown",
   "metadata": {
    "id": "Nl4y-f8AGIJO"
   },
   "source": [
    "TTR is higher if there is a tendency to use different words. We see that Trump has a higher coefficient than Obama (who is the reference category), which is somewhat surprising given a preconcieved notion of Obama as the more eloquent speaker."
   ]
  },
  {
   "cell_type": "markdown",
   "metadata": {
    "id": "jP4NlYUKROKX"
   },
   "source": [
    "# 8: Readability\n",
    "\n",
    "We now turn to readability measures instead. Using the presidential speeches data, calculate Flesch Reading Ease (FRE) for each speech. Use the Readability()-function from the imported package"
   ]
  },
  {
   "cell_type": "code",
   "execution_count": 19,
   "metadata": {
    "colab": {
     "base_uri": "https://localhost:8080/"
    },
    "executionInfo": {
     "elapsed": 35928,
     "status": "ok",
     "timestamp": 1714130196370,
     "user": {
      "displayName": "Daniel Vigild",
      "userId": "08967762330835575953"
     },
     "user_tz": -120
    },
    "id": "2huQ8JoRoVUn",
    "outputId": "172fa39e-764c-43b9-c0b6-1c11a67e1911"
   },
   "outputs": [
    {
     "name": "stderr",
     "output_type": "stream",
     "text": [
      "  0%|          | 0/112 [00:00<?, ?it/s]"
     ]
    },
    {
     "name": "stderr",
     "output_type": "stream",
     "text": [
      "100%|██████████| 112/112 [00:07<00:00, 15.90it/s]\n"
     ]
    }
   ],
   "source": [
    "# running the FRE calculation\n",
    "tqdm.pandas()\n",
    "\n",
    "spdf['fre'] = spdf['transcript_lowercase'].progress_apply(lambda x: Readability(str(x)).flesch().score)"
   ]
  },
  {
   "cell_type": "code",
   "execution_count": 20,
   "metadata": {
    "colab": {
     "base_uri": "https://localhost:8080/"
    },
    "executionInfo": {
     "elapsed": 17,
     "status": "ok",
     "timestamp": 1714130196370,
     "user": {
      "displayName": "Daniel Vigild",
      "userId": "08967762330835575953"
     },
     "user_tz": -120
    },
    "id": "aBE3_HqipmAc",
    "outputId": "18abcd34-c487-47a4-cb1b-8acb027503ff"
   },
   "outputs": [
    {
     "name": "stdout",
     "output_type": "stream",
     "text": [
      "46.1831041025425\n",
      "93.49627694610783\n",
      "64.62083023051426\n"
     ]
    }
   ],
   "source": [
    "#inspecting calulated values\n",
    "print(min(spdf.fre))\n",
    "print(max(spdf.fre))\n",
    "print((spdf.fre.mean()))"
   ]
  },
  {
   "cell_type": "markdown",
   "metadata": {
    "id": "X_64t8EA-YPq"
   },
   "source": [
    "Regress FRE on president. Are the results similar to the regression results for TTR? Which result do you believe in the most?"
   ]
  },
  {
   "cell_type": "code",
   "execution_count": 21,
   "metadata": {
    "colab": {
     "base_uri": "https://localhost:8080/"
    },
    "executionInfo": {
     "elapsed": 15,
     "status": "ok",
     "timestamp": 1714130196370,
     "user": {
      "displayName": "Daniel Vigild",
      "userId": "08967762330835575953"
     },
     "user_tz": -120
    },
    "id": "lcLYHf3CqThA",
    "outputId": "0280d64a-a6a2-4f9a-8ea6-b49c18f87aa6"
   },
   "outputs": [
    {
     "name": "stdout",
     "output_type": "stream",
     "text": [
      "                            OLS Regression Results                            \n",
      "==============================================================================\n",
      "Dep. Variable:                    fre   R-squared:                       0.023\n",
      "Model:                            OLS   Adj. R-squared:                  0.005\n",
      "Method:                 Least Squares   F-statistic:                     1.297\n",
      "Date:                Fri, 26 Apr 2024   Prob (F-statistic):              0.277\n",
      "Time:                        15:46:47   Log-Likelihood:                -407.77\n",
      "No. Observations:                 112   AIC:                             821.5\n",
      "Df Residuals:                     109   BIC:                             829.7\n",
      "Df Model:                           2                                         \n",
      "Covariance Type:            nonrobust                                         \n",
      "================================================================================================\n",
      "                                   coef    std err          t      P>|t|      [0.025      0.975]\n",
      "------------------------------------------------------------------------------------------------\n",
      "Intercept                       62.9805      1.350     46.665      0.000      60.306      65.655\n",
      "C(president)[T.Donald Trump]     2.9516      1.963      1.503      0.136      -0.940       6.843\n",
      "C(president)[T.Joe Biden]        2.7045      2.446      1.106      0.271      -2.144       7.553\n",
      "==============================================================================\n",
      "Omnibus:                        1.734   Durbin-Watson:                   1.769\n",
      "Prob(Omnibus):                  0.420   Jarque-Bera (JB):                1.649\n",
      "Skew:                           0.293   Prob(JB):                        0.438\n",
      "Kurtosis:                       2.897   Cond. No.                         3.53\n",
      "==============================================================================\n",
      "\n",
      "Notes:\n",
      "[1] Standard Errors assume that the covariance matrix of the errors is correctly specified.\n"
     ]
    }
   ],
   "source": [
    "model = smf.ols(formula='fre ~ C(president)', data=spdf).fit()\n",
    "\n",
    "print(model.summary())"
   ]
  },
  {
   "cell_type": "markdown",
   "metadata": {
    "id": "sXMc66KLFndv"
   },
   "source": [
    "FRE is high for texts that are easy to read. Given a preconcieved notion that Obama gives speeches that are more complex and thus harder to read than both Biden and Trump, one would tend to beleive this metric more, since Trump and Biden have higher coefficients than Obama (the reference category)."
   ]
  },
  {
   "cell_type": "code",
   "execution_count": null,
   "metadata": {
    "id": "fW0BGxDfF_Wh"
   },
   "outputs": [],
   "source": []
  }
 ],
 "metadata": {
  "colab": {
   "provenance": []
  },
  "kernelspec": {
   "display_name": "Python 3 (ipykernel)",
   "language": "python",
   "name": "python3"
  },
  "language_info": {
   "codemirror_mode": {
    "name": "ipython",
    "version": 3
   },
   "file_extension": ".py",
   "mimetype": "text/x-python",
   "name": "python",
   "nbconvert_exporter": "python",
   "pygments_lexer": "ipython3",
   "version": "3.11.9"
  }
 },
 "nbformat": 4,
 "nbformat_minor": 4
}
