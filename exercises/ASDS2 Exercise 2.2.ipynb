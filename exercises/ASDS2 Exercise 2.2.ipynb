{
 "cells": [
  {
   "cell_type": "markdown",
   "metadata": {
    "id": "fu7YrFvpROKB",
    "tags": []
   },
   "source": [
    "# Exercise: Complexity and Style\n",
    "\n",
    "In this exercise we will first replicate a simplified form of Mosteller & Wallace's famous stylometric analysis of the disputed Federalist Papers. We will then study complexity and style in speeches by US presidents."
   ]
  },
  {
   "cell_type": "code",
   "execution_count": null,
   "metadata": {
    "colab": {
     "base_uri": "https://localhost:8080/"
    },
    "executionInfo": {
     "elapsed": 23767,
     "status": "ok",
     "timestamp": 1714130146384,
     "user": {
      "displayName": "Daniel Vigild",
      "userId": "08967762330835575953"
     },
     "user_tz": -120
    },
    "id": "34A_7NEiSFeK",
    "outputId": "fb36358b-a88a-463c-cbd7-72e229ed7b70"
   },
   "outputs": [],
   "source": [
    "%pip install py-readability-metrics\n",
    "%pip install lexical-diversity"
   ]
  },
  {
   "cell_type": "code",
   "execution_count": null,
   "metadata": {
    "colab": {
     "base_uri": "https://localhost:8080/"
    },
    "executionInfo": {
     "elapsed": 6,
     "status": "ok",
     "timestamp": 1714130146384,
     "user": {
      "displayName": "Daniel Vigild",
      "userId": "08967762330835575953"
     },
     "user_tz": -120
    },
    "id": "xGuGlYcaROKK",
    "outputId": "a9f773c2-fe4e-4cdf-c3ae-b8b846154695"
   },
   "outputs": [],
   "source": [
    "import nltk\n",
    "import pandas as pd\n",
    "import numpy as np\n",
    "from sklearn.linear_model import LogisticRegression\n",
    "nltk.download('punkt')\n",
    "from nltk import word_tokenize\n",
    "from tqdm import tqdm\n",
    "import statsmodels.formula.api as smf\n",
    "from lexical_diversity import lex_div as ld\n",
    "from readability import Readability\n"
   ]
  },
  {
   "cell_type": "markdown",
   "metadata": {
    "id": "KMNjg5gNROKO"
   },
   "source": [
    "## 1: Load Mosteller & Wallace data\n",
    "\n",
    "Load the text of all federalist papers, available as 'federalist.csv' on Absalon.\n",
    "\n",
    "Paper no. 58 is attributed to Madison in the data, but Mosteller and Wallace consider this paper to have disputed authorship. Fix no. 58 to \"HAMILTON OR MADISON\" as the author."
   ]
  },
  {
   "cell_type": "code",
   "execution_count": 38,
   "metadata": {
    "colab": {
     "base_uri": "https://localhost:8080/",
     "height": 81
    },
    "executionInfo": {
     "elapsed": 285,
     "status": "ok",
     "timestamp": 1714130148383,
     "user": {
      "displayName": "Daniel Vigild",
      "userId": "08967762330835575953"
     },
     "user_tz": -120
    },
    "id": "DPPR_89ARC5I",
    "outputId": "2454e40d-bce9-4e13-c634-6d57780912d6"
   },
   "outputs": [],
   "source": [
    "#your code here"
   ]
  },
  {
   "cell_type": "markdown",
   "metadata": {
    "id": "OHoLf7VOROKP"
   },
   "source": [
    "## 2: Stylometric feature engineering\n",
    "\n",
    "To help ourselves a bit, we will lean on Mosteller & Wallace's finding that  Madison tended to use the word \"whilst\", while Hamilton would tend to use the word \"while\" in similar contexts. Call the number of uses of \"whilst\" in a text $wh_1$ and the number of \"while\" counts $wh_2$. For each text, calculate the metric\n",
    "\n",
    "$$\n",
    "whfrac = log( \\frac{wh_1 +1}{wh_2 +1} )\n",
    "$$\n",
    "\n",
    "This is a so-called regularized log odds ratio. The +1s in the numerator and denominator are regularization terms, and are arbitratily set at 1 here. You can optionally  verify that $whfrac$ follows a nice symmetrical distribution."
   ]
  },
  {
   "cell_type": "code",
   "execution_count": 39,
   "metadata": {
    "id": "nvIhRLbmSOBb"
   },
   "outputs": [],
   "source": [
    "#your code here\n"
   ]
  },
  {
   "cell_type": "markdown",
   "metadata": {
    "id": "uogDkumuROKQ"
   },
   "source": [
    "## 3: Testing predictiveness\n",
    "\n",
    "The disputed papers are papers 49 to 58, 62, and 63. Create separate data frames for the disputed and undisputed papers.\n",
    "\n",
    "Among the undisputed papers, create a dummy variable  indicating whether the text was written by Madison  vs. anyone  else.\n",
    "\n",
    "Fit a logistic regression model with this new indicator as the dependent variable and $whfrac$ as  the independent variable. What does the model tell you about the predictiveness of the use of 'whilst' vs. 'while'?"
   ]
  },
  {
   "cell_type": "code",
   "execution_count": null,
   "metadata": {
    "id": "I2GRiZo2iSFu"
   },
   "outputs": [],
   "source": [
    "#your code here"
   ]
  },
  {
   "cell_type": "markdown",
   "metadata": {
    "id": "Lk1MabBVROKR"
   },
   "source": [
    "## 4: Predicting authorship\n",
    "\n",
    "Using the logistic regression model, calculate the predicted probability of Madison authorship among the disputed papers using the  $whfrac$  indicator. What do the predictions indicate about the author of the disputed federalist papers? How could this stylometric analysis be improved?"
   ]
  },
  {
   "cell_type": "code",
   "execution_count": null,
   "metadata": {
    "colab": {
     "base_uri": "https://localhost:8080/",
     "height": 530
    },
    "executionInfo": {
     "elapsed": 365,
     "status": "ok",
     "timestamp": 1714130148741,
     "user": {
      "displayName": "Daniel Vigild",
      "userId": "08967762330835575953"
     },
     "user_tz": -120
    },
    "id": "OJ-xrEAQRVwO",
    "outputId": "6108a3a8-7b67-4068-b074-edb59edce5c4"
   },
   "outputs": [],
   "source": [
    "#your code here"
   ]
  },
  {
   "cell_type": "markdown",
   "metadata": {
    "id": "iLOrpnYTROKS"
   },
   "source": [
    "We now turn to a different topic, analyzing complexity in rhetorical style among US  presidents.\n",
    "\n",
    "## 5: Retrieve US presidential speech data\n",
    "\n",
    "The Miller Center of Public Affairs at University of Virginia hosts a collection of speeches by US presidents. Follow the directions here to retrieve the data in JSON format: https://data.millercenter.org/"
   ]
  },
  {
   "cell_type": "markdown",
   "metadata": {
    "id": "7i6RfGH5ROKT"
   },
   "source": [
    "## 6: Formatting data\n",
    "\n",
    "The speeches are downloaded from the Miller Center in JSON format. Load the speeches as a data frame."
   ]
  },
  {
   "cell_type": "code",
   "execution_count": null,
   "metadata": {},
   "outputs": [],
   "source": [
    "#your code here"
   ]
  },
  {
   "cell_type": "markdown",
   "metadata": {
    "id": "Zz5T9R3IROKW"
   },
   "source": [
    "For simplicity we want to compare only speeches by Obama and subsequent presidents, so subset to speeches given in 2009 or later."
   ]
  },
  {
   "cell_type": "code",
   "execution_count": null,
   "metadata": {
    "id": "3TA6xZTn-3sE"
   },
   "outputs": [],
   "source": [
    "#your code here\n"
   ]
  },
  {
   "cell_type": "markdown",
   "metadata": {
    "id": "gxgZ6SoGROKX"
   },
   "source": [
    "## 7: Lexical diversity\n",
    "\n",
    "Lowercase and tokenize the text of each speech, then calculate the type-token ratio (TTR) for each speech. Use the ld.ttr()-function from the imported lexical diversity package.\n"
   ]
  },
  {
   "cell_type": "code",
   "execution_count": null,
   "metadata": {
    "id": "q0oamsc-PvWP"
   },
   "outputs": [],
   "source": [
    "#your code here"
   ]
  },
  {
   "cell_type": "markdown",
   "metadata": {
    "id": "3qykX1ceROKX"
   },
   "source": [
    "Regress TTR on president, so you can compare TTR across Obama, Trump, and Biden. How do the presidents differ in terms of lexical diversity?"
   ]
  },
  {
   "cell_type": "code",
   "execution_count": null,
   "metadata": {
    "colab": {
     "base_uri": "https://localhost:8080/"
    },
    "executionInfo": {
     "elapsed": 354,
     "status": "ok",
     "timestamp": 1714130160446,
     "user": {
      "displayName": "Daniel Vigild",
      "userId": "08967762330835575953"
     },
     "user_tz": -120
    },
    "id": "B3pjtEet-hIx",
    "outputId": "7d841b8c-f219-4fdb-e055-6f0db92cd392"
   },
   "outputs": [],
   "source": [
    "#your code here"
   ]
  },
  {
   "cell_type": "markdown",
   "metadata": {
    "id": "jP4NlYUKROKX"
   },
   "source": [
    "# 8: Readability\n",
    "\n",
    "We now turn to readability measures instead. Using the presidential speeches data, calculate Flesch Reading Ease (FRE) for each speech. Use the Readability()-function from the imported package"
   ]
  },
  {
   "cell_type": "code",
   "execution_count": null,
   "metadata": {
    "colab": {
     "base_uri": "https://localhost:8080/"
    },
    "executionInfo": {
     "elapsed": 35928,
     "status": "ok",
     "timestamp": 1714130196370,
     "user": {
      "displayName": "Daniel Vigild",
      "userId": "08967762330835575953"
     },
     "user_tz": -120
    },
    "id": "2huQ8JoRoVUn",
    "outputId": "172fa39e-764c-43b9-c0b6-1c11a67e1911"
   },
   "outputs": [],
   "source": [
    "#your code here"
   ]
  },
  {
   "cell_type": "markdown",
   "metadata": {
    "id": "X_64t8EA-YPq"
   },
   "source": [
    "Regress FRE on president. Are the results similar to the regression results for TTR? Which result do you believe in the most?"
   ]
  },
  {
   "cell_type": "code",
   "execution_count": null,
   "metadata": {
    "colab": {
     "base_uri": "https://localhost:8080/"
    },
    "executionInfo": {
     "elapsed": 15,
     "status": "ok",
     "timestamp": 1714130196370,
     "user": {
      "displayName": "Daniel Vigild",
      "userId": "08967762330835575953"
     },
     "user_tz": -120
    },
    "id": "lcLYHf3CqThA",
    "outputId": "0280d64a-a6a2-4f9a-8ea6-b49c18f87aa6"
   },
   "outputs": [],
   "source": [
    "#your code here"
   ]
  }
 ],
 "metadata": {
  "colab": {
   "provenance": []
  },
  "kernelspec": {
   "display_name": "Python 3 (ipykernel)",
   "language": "python",
   "name": "python3"
  },
  "language_info": {
   "codemirror_mode": {
    "name": "ipython",
    "version": 3
   },
   "file_extension": ".py",
   "mimetype": "text/x-python",
   "name": "python",
   "nbconvert_exporter": "python",
   "pygments_lexer": "ipython3",
   "version": "3.11.9"
  }
 },
 "nbformat": 4,
 "nbformat_minor": 4
}
