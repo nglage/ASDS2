{
 "cells": [
  {
   "cell_type": "code",
   "execution_count": 1,
   "metadata": {},
   "outputs": [],
   "source": [
    "# Importing relevant packages \n",
    "\n",
    "import pandas as pd\n",
    "import re\n"
   ]
  },
  {
   "cell_type": "markdown",
   "metadata": {},
   "source": [
    "# Advanced Social Data Science 2 (ASDS2) Exercises\n",
    "\n",
    "\n",
    "## Overview and regular expressions\n",
    "\n",
    "### 1: Thinking about text as data\n",
    "\n",
    "Go to Kaggle’s database of text data sets here: https://www.kaggle.com/datasets?topic=nlpDatasets \n",
    "\n",
    "1. Find an interesting data set. (Try searching the data sets or playing around with the sorting rule in the top right). It doesn’t have to be social sciencey, just whatever looks interesting to you.\n",
    "2. Describe the variables in the data. What’s there in addition to the text itself, if anything?\n",
    "3. What’s a meaningful latent variable which might vary across the texts? (For example, ‘sentiment’ might plausibly vary across movie reviews).\n",
    "4. Assume you could measure the latent variable from (3). How might that latent variable correlate with other properties of the units of the data? (These can be observed variables in the data, or other, unobserved properties).\n"
   ]
  },
  {
   "cell_type": "markdown",
   "metadata": {},
   "source": [
    "*I chose this data set https://www.kaggle.com/datasets/tharunmss/water-bottle-dataset-flipkart. The dataset contains customer reviews of water bottles scraped from an Indian e-Commerce platform.*\n",
    "\n",
    "*There are 6 columns:*\n",
    "- *1. index - unique identifier to each review entry*\n",
    "- *2. product_name - name of water bottle*\n",
    "- *3. overall_rating - average rating for the product*\n",
    "- *4. rating - individual rating of user on a scale from 1 to 5 stars*\n",
    "- *5. title - headline/summary of the review, capturing the main sentiment*\n",
    "- *6. cleaned_review - complete text of customer's review (=text variable)*\n",
    "\n",
    "*A meaningful latent variable could be the sentiment of the review. It would probably be reasonable to assume that sentiment and indvidual rating (and maybe overall rating) positively correlate. Maybe it also correlated with the length of the review, so that really negative or really positive sentiment result in longer reviews.*"
   ]
  },
  {
   "cell_type": "markdown",
   "metadata": {},
   "source": [
    "### 2: Importing text data\n",
    "\n",
    "1. The file mach.csv, available at the course Absalon page, contains part of Machiavelli’s The Prince, subdivided into 188 sections. Download it to your computer.\n",
    "2. Import the file into Python using read_csv() from pandas. \n",
    "\n",
    "(Tip: Check the content of the data frame using the .head()-function, to assess whether everything is tidy and ready to go). "
   ]
  },
  {
   "cell_type": "code",
   "execution_count": 2,
   "metadata": {},
   "outputs": [
    {
     "name": "stdout",
     "output_type": "stream",
     "text": [
      "(188, 2)\n"
     ]
    },
    {
     "data": {
      "text/html": [
       "<div>\n",
       "<style scoped>\n",
       "    .dataframe tbody tr th:only-of-type {\n",
       "        vertical-align: middle;\n",
       "    }\n",
       "\n",
       "    .dataframe tbody tr th {\n",
       "        vertical-align: top;\n",
       "    }\n",
       "\n",
       "    .dataframe thead th {\n",
       "        text-align: right;\n",
       "    }\n",
       "</style>\n",
       "<table border=\"1\" class=\"dataframe\">\n",
       "  <thead>\n",
       "    <tr style=\"text-align: right;\">\n",
       "      <th></th>\n",
       "      <th>Unnamed: 0</th>\n",
       "      <th>text</th>\n",
       "    </tr>\n",
       "  </thead>\n",
       "  <tbody>\n",
       "    <tr>\n",
       "      <th>0</th>\n",
       "      <td>Mach_1.txt.content</td>\n",
       "      <td>DEDICATORY LETTER Niccolo Machiavelli to His M...</td>\n",
       "    </tr>\n",
       "    <tr>\n",
       "      <th>1</th>\n",
       "      <td>Mach_10.txt.content</td>\n",
       "      <td>But considerable problems arise if territorie...</td>\n",
       "    </tr>\n",
       "    <tr>\n",
       "      <th>2</th>\n",
       "      <td>Mach_100.txt.content</td>\n",
       "      <td>them, saying that he could not fight well with...</td>\n",
       "    </tr>\n",
       "    <tr>\n",
       "      <th>3</th>\n",
       "      <td>Mach_101.txt.content</td>\n",
       "      <td>the Swiss, they are not confident of being abl...</td>\n",
       "    </tr>\n",
       "    <tr>\n",
       "      <th>4</th>\n",
       "      <td>Mach_102.txt.content</td>\n",
       "      <td>Empire; and all the vigour that was drained fr...</td>\n",
       "    </tr>\n",
       "  </tbody>\n",
       "</table>\n",
       "</div>"
      ],
      "text/plain": [
       "             Unnamed: 0                                               text\n",
       "0    Mach_1.txt.content  DEDICATORY LETTER Niccolo Machiavelli to His M...\n",
       "1   Mach_10.txt.content   But considerable problems arise if territorie...\n",
       "2  Mach_100.txt.content  them, saying that he could not fight well with...\n",
       "3  Mach_101.txt.content  the Swiss, they are not confident of being abl...\n",
       "4  Mach_102.txt.content  Empire; and all the vigour that was drained fr..."
      ]
     },
     "execution_count": 2,
     "metadata": {},
     "output_type": "execute_result"
    }
   ],
   "source": [
    "# load data\n",
    "mach_df = pd.read_csv(\"mach.csv\")\n",
    "\n",
    "print(mach_df.shape)\n",
    "mach_df.head()"
   ]
  },
  {
   "cell_type": "markdown",
   "metadata": {},
   "source": [
    "3. Using the search function from Python’s re module (or a Pandas equivalent), find out in which section(s) the following terms appear:\n",
    "    - lion\n",
    "    - flatterers\n",
    "    - ccmnot"
   ]
  },
  {
   "cell_type": "code",
   "execution_count": 3,
   "metadata": {},
   "outputs": [
    {
     "name": "stdout",
     "output_type": "stream",
     "text": [
      "{'lion': [26, 27, 44, 47, 97, 112, 139, 166], 'flatterers': [74, 75, 76], 'ccmnot': [53]}\n"
     ]
    }
   ],
   "source": [
    "terms = [\"lion\", \"flatterers\", \"ccmnot\"]\n",
    "sections = {}\n",
    "\n",
    "for term in terms:\n",
    "\n",
    "    indices = []\n",
    "\n",
    "    for index, text in enumerate(mach_df[\"text\"]):\n",
    "        \n",
    "        if re.search(term, text):\n",
    "            indices.append(index)\n",
    "    \n",
    "    sections[term] = indices\n",
    "\n",
    "print(sections)\n"
   ]
  },
  {
   "cell_type": "markdown",
   "metadata": {},
   "source": [
    "4. Why might a nonsensical term like ‘ccmnot’ be in the corpus?\n",
    "\n",
    "From investigating the section that contains 'ccmnot', it seems it is a spelling mistake and was supposed to say 'cannot'. Perhaps the Machiavelli text was made digital by scanning and this word was misread.\n",
    "\n",
    "(Tip: Try printing the content of the text containing 'ccmnot'. Does it contain more text than the notebook displays by default? How could we change this?)"
   ]
  },
  {
   "cell_type": "code",
   "execution_count": 4,
   "metadata": {},
   "outputs": [
    {
     "name": "stdout",
     "output_type": "stream",
     "text": [
      " But let us return to our subject. I maintain that anyone who considers what I have written will realise that either hatred or contempt led to the downfall of the emperors I have discussed; he will recognise that some of them acted in one way and others in the opposite way, and that one ruler in each group was successful and the others ended badly. Because Pertinax and Alexander were new rulers, it was useless and harmful for them to act like Marcus, who was an hereditary ruler. Likewise, it was harmful for Caracalla, Commodus and Maximinus to act like Severus, because they lacked the ability required to follow in his footsteps. Therefore, a new ruler in a new principality ccmnot imitate the conduct of Marcus, nor again is it necessary to imitate that of Severus. Rather, he should imitate Severus in the courses of action that are necessary for establishing himself in power, and imitate Marcus in those that are necessary for maintaining power that is already established and secure, thus achieving glory. \n",
      " But let us return to our subject. I maintain that anyone who considers what I have written will realise that either hatred or contempt led to the downfall of the emperors I have discussed; he will recognise that some of them acted in one way and others in the opposite way, and that one ruler in each group was successful and the others ended badly. Because Pertinax and Alexander were new rulers, it was useless and harmful for them to act like Marcus, who was an hereditary ruler. Likewise, it was harmful for Caracalla, Commodus and Maximinus to act like Severus, because they lacked the ability required to follow in his footsteps. Therefore, a new ruler in a new principality ccmnot imitate the conduct of Marcus, nor again is it necessary to imitate that of Severus. Rather, he should imitate Severus in the courses of action that are necessary for establishing himself in power, and imitate Marcus in those that are necessary for maintaining power that is already established and secure, thus achieving glory. \n"
     ]
    }
   ],
   "source": [
    "term = \"ccmnot\"\n",
    "sections = {}\n",
    "\n",
    "full_text = []\n",
    "\n",
    "for text in mach_df[\"text\"]:\n",
    "        \n",
    "    if re.search(term, text):\n",
    "        full_text.append(text)\n",
    "\n",
    "print(full_text[0])\n",
    "\n",
    "# alternative\n",
    "print(mach_df.iloc[53][\"text\"])"
   ]
  },
  {
   "cell_type": "markdown",
   "metadata": {},
   "source": [
    "### 3: Regular expressions\n",
    "\n",
    "In this exercise, we’re continuing with Python’s re module. \n",
    "<br>The following can be solved using one or more of these three functions in re:\n",
    "`search`\n",
    "`split`\n",
    "`sub`\n",
    "\n",
    "Hint: Take a look at the documentation for Python's re module to find solutions, and test your regular expression on regextester.com or consult regex101.com "
   ]
  },
  {
   "cell_type": "markdown",
   "metadata": {},
   "source": [
    "1. Define a function that can check if a string contains a certain set of characters (for this excercise a-z or A-Z or 0-9), and test your function on some strings to confirm that it works."
   ]
  },
  {
   "cell_type": "code",
   "execution_count": 5,
   "metadata": {},
   "outputs": [
    {
     "name": "stdout",
     "output_type": "stream",
     "text": [
      "[True, False, True, True, False]\n",
      "[True, True, True, False, False]\n"
     ]
    }
   ],
   "source": [
    "# define function\n",
    "def check_characters(pattern, strings):\n",
    "    results = []\n",
    "\n",
    "    for string in strings:\n",
    "        result = bool(re.search(pattern, string))\n",
    "        results.append(result)\n",
    "\n",
    "    return results\n",
    "\n",
    "# set strings\n",
    "strings = [\"Hello\",\n",
    "           \"12345\",\n",
    "           \"Hello123\",\n",
    "           \"hello\",\n",
    "           \"!@€$\"]\n",
    "\n",
    "# set pattern\n",
    "pattern = r\"[a-z]\"\n",
    "\n",
    "print(check_characters(pattern, strings))\n",
    "\n",
    "# set different pattern\n",
    "pattern = r\"[A-Z0-9]\"\n",
    "\n",
    "print(check_characters(pattern, strings))"
   ]
  },
  {
   "cell_type": "markdown",
   "metadata": {},
   "source": [
    "2. Define a function that can check if a string contains an _a_ followed by **zero** or more _b_'s.\n",
    "\n",
    "Examples:\n",
    "\n",
    "\"ac\" is a match\n",
    "\n",
    "\"abc\" is a match\n",
    "\n",
    "\"bbc\" is not a match"
   ]
  },
  {
   "cell_type": "code",
   "execution_count": 6,
   "metadata": {},
   "outputs": [
    {
     "data": {
      "text/plain": [
       "[True, True, False]"
      ]
     },
     "execution_count": 6,
     "metadata": {},
     "output_type": "execute_result"
    }
   ],
   "source": [
    "# define function\n",
    "def check_characters(pattern, strings):\n",
    "    results = []\n",
    "\n",
    "    for string in strings:\n",
    "        result = bool(re.search(pattern, string))\n",
    "        results.append(result)\n",
    "\n",
    "    return results\n",
    "\n",
    "# set strings\n",
    "strings = [\"ac\",\n",
    "           \"abc\",\n",
    "           \"bbc\"]\n",
    "\n",
    "# set pattern\n",
    "pattern = r\"ab*\"\n",
    "\n",
    "check_characters(pattern, strings)"
   ]
  },
  {
   "cell_type": "markdown",
   "metadata": {},
   "source": [
    "3. Define a function that can check if a string contains an _a_ followed by **one** or more _b_'s.\n",
    "\n",
    "(Now \"ac\" should no longer be a match!)"
   ]
  },
  {
   "cell_type": "code",
   "execution_count": 7,
   "metadata": {},
   "outputs": [
    {
     "data": {
      "text/plain": [
       "[False, True, False]"
      ]
     },
     "execution_count": 7,
     "metadata": {},
     "output_type": "execute_result"
    }
   ],
   "source": [
    "# define function\n",
    "def check_characters(pattern, strings):\n",
    "    results = []\n",
    "\n",
    "    for string in strings:\n",
    "        result = bool(re.search(pattern, string))\n",
    "        results.append(result)\n",
    "\n",
    "    return results\n",
    "\n",
    "# set strings\n",
    "strings = [\"ac\",\n",
    "           \"abc\",\n",
    "           \"bbc\"]\n",
    "\n",
    "# set pattern\n",
    "pattern = r\"ab+\"\n",
    "\n",
    "check_characters(pattern, strings)"
   ]
  },
  {
   "cell_type": "markdown",
   "metadata": {},
   "source": [
    "4. Using the sample string ‘The quick brown fox jumps over the lazy dog’, search for the words 'fox', 'dog', 'horse'."
   ]
  },
  {
   "cell_type": "code",
   "execution_count": 8,
   "metadata": {},
   "outputs": [
    {
     "data": {
      "text/plain": [
       "[True, True, False]"
      ]
     },
     "execution_count": 8,
     "metadata": {},
     "output_type": "execute_result"
    }
   ],
   "source": [
    "# string\n",
    "string = \"The quick brown fox jumps over the lazy dog\"\n",
    "\n",
    "words = [\"fox\", \"dog\", \"horse\"]\n",
    "\n",
    "\n",
    "results = []\n",
    "\n",
    "for word in words:\n",
    "    result = bool(re.search(word, string))\n",
    "    results.append(result)\n",
    "\n",
    "results"
   ]
  },
  {
   "cell_type": "markdown",
   "metadata": {},
   "source": [
    "5. Define a string containing a sentence with the word ‘Road’ in it, and use the re.sub()-function to abbreviate 'Road' as 'Rd.'.\n",
    "\n",
    "(For example: \"The quick brown fox jumps over the lazy dog on Hampton Road\" --> \"The quick brown fox jumps over the lazy dog on Hampton Rd.\")"
   ]
  },
  {
   "cell_type": "code",
   "execution_count": 9,
   "metadata": {},
   "outputs": [
    {
     "data": {
      "text/plain": [
       "'All rds lead to Rome'"
      ]
     },
     "execution_count": 9,
     "metadata": {},
     "output_type": "execute_result"
    }
   ],
   "source": [
    "sentence = \"All roads lead to Rome\"\n",
    "\n",
    "re.sub(\"road\", \"rd\", sentence)"
   ]
  },
  {
   "cell_type": "markdown",
   "metadata": {},
   "source": [
    "6. Define a string containing a sentence and perform very simple tokenization by splitting at all whitespaces.\n",
    "\n",
    "(The result should be a list where each element in the list corresponds to a word from the sentence)"
   ]
  },
  {
   "cell_type": "code",
   "execution_count": 10,
   "metadata": {},
   "outputs": [
    {
     "name": "stdout",
     "output_type": "stream",
     "text": [
      "['This', 'is', 'a', 'sentence.']\n"
     ]
    }
   ],
   "source": [
    "\n",
    "sentence = \"This is a sentence.\"\n",
    "\n",
    "tokens = sentence.split()\n",
    "\n",
    "print(tokens)"
   ]
  },
  {
   "cell_type": "markdown",
   "metadata": {},
   "source": [
    "7. Define a string containing a sentence and replace whitespaces with an underscore. After, reverse this by replacing underscores with a whitespace."
   ]
  },
  {
   "cell_type": "code",
   "execution_count": 11,
   "metadata": {},
   "outputs": [
    {
     "name": "stdout",
     "output_type": "stream",
     "text": [
      "This_is_a_sentence.\n",
      "This is a sentence.\n"
     ]
    }
   ],
   "source": [
    "sentence = \"This is a sentence.\"\n",
    "\n",
    "sentence = re.sub(\" \", \"_\", sentence)\n",
    "print(sentence)\n",
    "\n",
    "sentence = re.sub(\"_\", \" \", sentence)\n",
    "print(sentence)"
   ]
  },
  {
   "cell_type": "markdown",
   "metadata": {},
   "source": [
    "8. Define a string containing a sentence with a few cases of multiple spaces between words and remove all those cases."
   ]
  },
  {
   "cell_type": "code",
   "execution_count": 12,
   "metadata": {},
   "outputs": [
    {
     "name": "stdout",
     "output_type": "stream",
     "text": [
      "This is a sentence with multiple spaces.\n"
     ]
    }
   ],
   "source": [
    "sentence = \"This   is   a  sentence    with  multiple    spaces.\"\n",
    "\n",
    "sentence = re.sub(r'\\s+', ' ', sentence)\n",
    "\n",
    "print(sentence)"
   ]
  }
 ],
 "metadata": {
  "hide_input": false,
  "kernelspec": {
   "display_name": "base",
   "language": "python",
   "name": "python3"
  },
  "language_info": {
   "codemirror_mode": {
    "name": "ipython",
    "version": 3
   },
   "file_extension": ".py",
   "mimetype": "text/x-python",
   "name": "python",
   "nbconvert_exporter": "python",
   "pygments_lexer": "ipython3",
   "version": "3.12.7"
  }
 },
 "nbformat": 4,
 "nbformat_minor": 4
}
