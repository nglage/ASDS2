{
 "cells": [
  {
   "cell_type": "code",
   "execution_count": 1,
   "metadata": {},
   "outputs": [],
   "source": [
    "# Importing relevant packages \n",
    "\n",
    "import pandas as pd\n",
    "import re\n"
   ]
  },
  {
   "cell_type": "markdown",
   "metadata": {},
   "source": [
    "# Advanced Social Data Science 2 (ASDS2) Exercises\n",
    "\n",
    "\n",
    "## Overview and regular expressions\n",
    "\n",
    "### 1: Thinking about text as data\n",
    "\n",
    "Go to Kaggle’s database of text data sets here: https://www.kaggle.com/datasets?topic=nlpDatasets \n",
    "\n",
    "1. Find an interesting data set. (Try searching the data sets or playing around with the sorting rule in the top right). It doesn’t have to be social sciencey, just whatever looks interesting to you.\n",
    "2. Describe the variables in the data. What’s there in addition to the text itself, if anything?\n",
    "3. What’s a meaningful latent variable which might vary across the texts? (For example, ‘sentiment’ might plausibly vary across movie reviews).\n",
    "4. Assume you could measure the latent variable from (3). How might that latent variable correlate with other properties of the units of the data? (These can be observed variables in the data, or other, unobserved properties).\n"
   ]
  },
  {
   "cell_type": "markdown",
   "metadata": {},
   "source": [
    "[*write your answer here*]"
   ]
  },
  {
   "cell_type": "markdown",
   "metadata": {},
   "source": [
    "### 2: Importing text data\n",
    "\n",
    "1. The file mach.csv, available at the course Absalon page, contains part of Machiavelli’s The Prince, subdivided into 188 sections. Download it to your computer.\n",
    "2. Import the file into Python using read_csv() from pandas. \n",
    "\n",
    "(Tip: Check the content of the data frame using the .head()-function, to assess whether everything is tidy and ready to go). "
   ]
  },
  {
   "cell_type": "code",
   "execution_count": 2,
   "metadata": {},
   "outputs": [],
   "source": [
    "# Importing Machiavelli file\n",
    "\n",
    "mach = pd.read_csv(\"mach.csv\")\n",
    "mach = mach.rename(columns = {'Unnamed: 0': 'section'}) #Renaming unnamed column\n"
   ]
  },
  {
   "cell_type": "markdown",
   "metadata": {},
   "source": [
    "3. Using the search function from Python’s re module (or a Pandas equivalent), find out in which section(s) the following terms appear:\n",
    "    - lion\n",
    "    - flatterers\n",
    "    - ccmnot"
   ]
  },
  {
   "cell_type": "code",
   "execution_count": 3,
   "metadata": {},
   "outputs": [
    {
     "name": "stdout",
     "output_type": "stream",
     "text": [
      "Sections containing the word \"lion\"\n",
      "Mach_122.txt.content\n",
      "Mach_123.txt.content\n",
      "Mach_139.txt.content\n",
      "Mach_141.txt.content\n",
      "Mach_187.txt.content\n",
      "Mach_30.txt.content\n",
      "Mach_55.txt.content\n",
      "Mach_8.txt.content\n",
      "\n",
      "Sections containing the word \"flatterers\"\n",
      "Mach_166.txt.content\n",
      "Mach_167.txt.content\n",
      "Mach_168.txt.content\n",
      "\n",
      "Sections containing the word \"ccmnot\"\n",
      "Mach_147.txt.content\n",
      "\n"
     ]
    }
   ],
   "source": [
    "# Solution using re.search\n",
    "\n",
    "# Searching through and printing each section that contains the relevant term. \n",
    "\n",
    "print('Sections containing the word \\\"lion\\\"') \n",
    "[print(section) for section, text in zip(mach.section, mach.text) if re.search('lion', text)]\n",
    "\n",
    "print('\\nSections containing the word \\\"flatterers\\\"')\n",
    "[print(section) for section, text in zip(mach.section, mach.text) if re.search('flatterers', text)]\n",
    "\n",
    "print('\\nSections containing the word \\\"ccmnot\\\"')\n",
    "[print(section) for section, text in zip(mach.section, mach.text) if re.search('ccmnot', text)]\n",
    "print()"
   ]
  },
  {
   "cell_type": "code",
   "execution_count": 4,
   "metadata": {},
   "outputs": [
    {
     "name": "stdout",
     "output_type": "stream",
     "text": [
      "Sections containing the word \"lion\"\n",
      "26     Mach_122.txt.content\n",
      "27     Mach_123.txt.content\n",
      "44     Mach_139.txt.content\n",
      "47     Mach_141.txt.content\n",
      "97     Mach_187.txt.content\n",
      "112     Mach_30.txt.content\n",
      "139     Mach_55.txt.content\n",
      "166      Mach_8.txt.content\n",
      "Name: section, dtype: object\n",
      "\n",
      "Sections containing the word \"flatterers\"\n",
      "74    Mach_166.txt.content\n",
      "75    Mach_167.txt.content\n",
      "76    Mach_168.txt.content\n",
      "Name: section, dtype: object\n",
      "\n",
      "Sections containing the word \"ccmnot\"\n",
      "53    Mach_147.txt.content\n",
      "Name: section, dtype: object\n"
     ]
    }
   ],
   "source": [
    "# Solution using a Pandas equvalient, str.contains\n",
    "\n",
    "# Creating columns containing a boolean value for each section showing whether the term is present or not\n",
    "# str.contains is a built-in Pandas Method and returns a boolean indicating whether the given term is contained in the text.  \n",
    "\n",
    "mach['lion'] = mach['text'].str.contains('lion') \n",
    "mach['flatterers'] = mach['text'].str.contains('flatterers')\n",
    "mach['ccmnot'] = mach['text'].str.contains('ccmnot')\n",
    "\n",
    "# Extracting and printing the sections containing each of the given terms  \n",
    "\n",
    "print('Sections containing the word \\\"lion\\\"') \n",
    "print(mach['section'][mach.lion == True]) \n",
    "\n",
    "print('\\nSections containing the word \\\"flatterers\\\"')\n",
    "print(mach['section'][mach.flatterers == True])\n",
    "\n",
    "print('\\nSections containing the word \\\"ccmnot\\\"')\n",
    "print(mach['section'][mach.ccmnot == True])"
   ]
  },
  {
   "cell_type": "markdown",
   "metadata": {},
   "source": [
    "4. Why might a nonsensical term like ‘ccmnot’ be in the corpus?\n",
    "\n",
    "From investigating the section that contains 'ccmnot', it seems it is a spelling mistake and was supposed to say 'cannot'. Perhaps the Machiavelli text was made digital by scanning and this word was misread.\n",
    "\n",
    "(Tip: Try printing the content of the text containing 'ccmnot'. Does it contain more text than the notebook displays by default? How could we change this?)"
   ]
  },
  {
   "cell_type": "code",
   "execution_count": 5,
   "metadata": {},
   "outputs": [
    {
     "name": "stdout",
     "output_type": "stream",
     "text": [
      "53     But let us return to our subject. I maintain that anyone who considers what I have written will realise that either hatred or contempt led to the downfall of the emperors I have discussed; he will recognise that some of them acted in one way and others in the opposite way, and that one ruler in each group was successful and the others ended badly. Because Pertinax and Alexander were new rulers, it was useless and harmful for them to act like Marcus, who was an hereditary ruler. Likewise, it was harmful for Caracalla, Commodus and Maximinus to act like Severus, because they lacked the ability required to follow in his footsteps. Therefore, a new ruler in a new principality ccmnot imitate the conduct of Marcus, nor again is it necessary to imitate that of Severus. Rather, he should imitate Severus in the courses of action that are necessary for establishing himself in power, and imitate Marcus in those that are necessary for maintaining power that is already established and secure, thus achieving glory. \n",
      "Name: text, dtype: object\n"
     ]
    }
   ],
   "source": [
    "# Displaying and exploring the section containing 'ccmnot'\n",
    "\n",
    "# Setting the display width to 2000 characters (otherwise Python will truncate output with \"...\" to indicate that there is more text that wasn't shown)\n",
    "pd.set_option('display.max_colwidth', 2000)\n",
    "\n",
    "# Print the text for the section 'Mach_147.txt.content'\n",
    "print(mach['text'][mach.section==\"Mach_147.txt.content\"])"
   ]
  },
  {
   "cell_type": "markdown",
   "metadata": {},
   "source": [
    "### 3: Regular expressions\n",
    "\n",
    "In this exercise, we’re continuing with Python’s re module. \n",
    "<br>The following can be solved using one or more of these three functions in re:\n",
    "`search`\n",
    "`split`\n",
    "`sub`\n",
    "\n",
    "Hint: Take a look at the documentation for Python's re module to find solutions, and test your regular expression on regextester.com or consult regex101.com "
   ]
  },
  {
   "cell_type": "markdown",
   "metadata": {},
   "source": [
    "1. Define a function that can check if a string contains a certain set of characters (for this excercise a-z or A-Z or 0-9), and test your function on some strings to confirm that it works. "
   ]
  },
  {
   "cell_type": "code",
   "execution_count": 6,
   "metadata": {},
   "outputs": [
    {
     "name": "stdout",
     "output_type": "stream",
     "text": [
      "The string \"ABCDEFabcdef123450\" contains numbers or letters = True\n",
      "\n",
      "The string \"*&%@#!}{\" contains numbers or letters = False\n"
     ]
    }
   ],
   "source": [
    "#Defining a function to check whether a string contains letters (upper case or lower case) or numbers\n",
    "\n",
    "def specific_char(string):\n",
    "    string = re.search(r'[a-z,A-Z,0-9]', string) #Regex search to find characters that match the regex patterns: a-z, A-Z or 0-9\n",
    "    return bool(string)                     # The function returns a boolian indicating whether the patterns are matched or nor. \n",
    "\n",
    "# Testing function for two test strings\n",
    "test_string1='ABCDEFabcdef123450'\n",
    "test_string2='*&%@#!}{'\n",
    "\n",
    "print(('The string \"%s\" contains numbers or letters ='%(test_string1)),(specific_char(test_string1)))\n",
    "print(('\\nThe string \"%s\" contains numbers or letters ='%(test_string2)),(specific_char(test_string2)))\n"
   ]
  },
  {
   "cell_type": "markdown",
   "metadata": {},
   "source": [
    "2. Define a function that can check if a string contains an _a_ followed by **zero** or more _b_'s.\n",
    "\n",
    "Examples:\n",
    "\n",
    "\"ac\" is a match\n",
    "\n",
    "\"abc\" is a match\n",
    "\n",
    "\"bbc\" is not a match"
   ]
  },
  {
   "cell_type": "code",
   "execution_count": 7,
   "metadata": {},
   "outputs": [
    {
     "name": "stdout",
     "output_type": "stream",
     "text": [
      "Found a match!\n",
      "Found a match!\n",
      "Found a match!\n",
      "Not matched!\n"
     ]
    }
   ],
   "source": [
    "# Defining a function to test if an a is followed by zero or more bs \n",
    "\n",
    "def ab_match(text):\n",
    "    if re.search('ab*',  text): # * searches for the previous token \"b\" between zero and more times\n",
    "        return 'Found a match!'\n",
    "    else:\n",
    "        return 'Not matched!'\n",
    "\n",
    "print(ab_match(\"ac\"))\n",
    "print(ab_match(\"abc\"))\n",
    "print(ab_match(\"abbc\"))\n",
    "print(ab_match(\"bbc\"))"
   ]
  },
  {
   "cell_type": "markdown",
   "metadata": {},
   "source": [
    "3. Define a function that can check if a string contains an _a_ followed by **one** or more _b_'s.\n",
    "\n",
    "(Now \"ac\" should no longer be a match!)"
   ]
  },
  {
   "cell_type": "code",
   "execution_count": 8,
   "metadata": {},
   "outputs": [
    {
     "name": "stdout",
     "output_type": "stream",
     "text": [
      "Not matched!\n",
      "Found a match!\n",
      "Found a match!\n",
      "Not matched!\n"
     ]
    }
   ],
   "source": [
    "# Defining a function to test if an a is followed by one or more bs \n",
    "\n",
    "def ab_match(text):\n",
    "    if re.search('ab+',  text): # + matches the previous token \"b\" between one and more times\n",
    "        return 'Found a match!'\n",
    "    else:\n",
    "        return('Not matched!')  \n",
    "\n",
    "print(ab_match(\"ac\"))\n",
    "print(ab_match(\"abc\"))\n",
    "print(ab_match(\"abbc\"))\n",
    "print(ab_match(\"acb\"))"
   ]
  },
  {
   "cell_type": "markdown",
   "metadata": {},
   "source": [
    "4. Using the sample string ‘The quick brown fox jumps over the lazy dog’, search for the words 'fox', 'dog', 'horse'."
   ]
  },
  {
   "cell_type": "code",
   "execution_count": 9,
   "metadata": {},
   "outputs": [
    {
     "name": "stdout",
     "output_type": "stream",
     "text": [
      "Searching for \"fox\" in \"The quick brown fox jumps over the lazy dog\" ->\n",
      "Found a match!\n",
      "\n",
      "Searching for \"dog\" in \"The quick brown fox jumps over the lazy dog\" ->\n",
      "Found a match!\n",
      "\n",
      "Searching for \"horse\" in \"The quick brown fox jumps over the lazy dog\" ->\n",
      "Not Matched!\n",
      "\n"
     ]
    }
   ],
   "source": [
    "\n",
    "patterns = ['fox', 'dog', 'horse'] # Defining patterns to search for with re\n",
    "text = 'The quick brown fox jumps over the lazy dog'\n",
    "\n",
    "for pattern in patterns: # Searching for each of the patterns inthe \n",
    "    print('Searching for \"%s\" in \"%s\" ->' % (pattern, text),)\n",
    "    if re.search(pattern,  text):\n",
    "        print('Found a match!\\n')\n",
    "    else:\n",
    "        print('Not Matched!\\n')\n",
    "        "
   ]
  },
  {
   "cell_type": "markdown",
   "metadata": {},
   "source": [
    "5. Define a string containing a sentence with the word ‘Road’ in it, and use the re.sub()-function to abbreviate 'Road' as 'Rd.'.\n",
    "\n",
    "(For example: \"The quick brown fox jumps over the lazy dog on Hampton Road\" --> \"The quick brown fox jumps over the lazy dog on Hampton Rd.\")"
   ]
  },
  {
   "cell_type": "code",
   "execution_count": 10,
   "metadata": {},
   "outputs": [
    {
     "name": "stdout",
     "output_type": "stream",
     "text": [
      "The quick brown fox jumps over the lazy dog on Hampton Rd.\n"
     ]
    }
   ],
   "source": [
    "# Using re.sub to substitute words in text\n",
    "\n",
    "text = 'The quick brown fox jumps over the lazy dog on Hampton Road'\n",
    "\n",
    "print(re.sub('Road', 'Rd.', text)) # Using re.sub to indicate which word(s) should be replaced\n"
   ]
  },
  {
   "cell_type": "markdown",
   "metadata": {},
   "source": [
    "6. Define a string containing a sentence and perform very simple tokenization by splitting at all whitespaces.\n",
    "\n",
    "(The result should be a list where each element in the list corresponds to a word from the sentence)"
   ]
  },
  {
   "cell_type": "code",
   "execution_count": 11,
   "metadata": {},
   "outputs": [
    {
     "name": "stdout",
     "output_type": "stream",
     "text": [
      "['The', 'quick', 'brown', 'fox', 'jumps', 'over', 'the', 'lazy', 'dog.']\n"
     ]
    }
   ],
   "source": [
    "# Tokienizing by splitting at whitespaces\n",
    "\n",
    "text = 'The quick brown fox jumps over the lazy dog.'\n",
    "\n",
    "print(re.split(' ', text)) \n",
    "\n",
    "#This can also be done without regex using text.split(' ')"
   ]
  },
  {
   "cell_type": "markdown",
   "metadata": {},
   "source": [
    "7. Define a string containing a sentence and replace whitespaces with an underscore. After, reverse this by replacing underscores with a whitespace."
   ]
  },
  {
   "cell_type": "code",
   "execution_count": 12,
   "metadata": {},
   "outputs": [
    {
     "name": "stdout",
     "output_type": "stream",
     "text": [
      "Replacing whitespaces with underscores\n",
      "Let's become regexperts! --> Let's_become_regexperts!\n",
      "\n",
      "Replacing underscores with whitespaces\n",
      "Let's_become_regexperts! --> Let's become regexperts!\n",
      "\n",
      "Alternative solution\n",
      "Let's become regexperts! --> Let's_become_regexperts!\n"
     ]
    }
   ],
   "source": [
    "# Using re.sub() to replace whitespaces and underscores\n",
    "\n",
    "text = \"Let's become regexperts!\"\n",
    "text1 =\"Let's_become_regexperts!\"\n",
    "\n",
    "print('Replacing whitespaces with underscores')\n",
    "print(text, '-->',re.sub(\" \", \"_\", text))\n",
    "\n",
    "print('\\nReplacing underscores with whitespaces')\n",
    "print(text1, '-->', re.sub(\"_\", \" \", text1))\n",
    "\n",
    "#Alternative solution, not using regex\n",
    "print('\\nAlternative solution')\n",
    "print(text, '-->', text.replace(' ', '_'))\n"
   ]
  },
  {
   "cell_type": "markdown",
   "metadata": {},
   "source": [
    "8. Define a string containing a sentence with a few cases of multiple spaces between words and remove all those cases."
   ]
  },
  {
   "cell_type": "code",
   "execution_count": 13,
   "metadata": {},
   "outputs": [
    {
     "name": "stdout",
     "output_type": "stream",
     "text": [
      "Original string:\t Being      a  regexpert\n",
      "Without extra spaces:\t Being a regexpert\n"
     ]
    }
   ],
   "source": [
    "text = 'Being      a  regexpert'\n",
    "print(\"Original string:\\t\",text)\n",
    "print(\"Without extra spaces:\\t\",re.sub(' +',' ',text)) # replacing one or more (+) whitespaces with one whitespace\n"
   ]
  }
 ],
 "metadata": {
  "hide_input": false,
  "kernelspec": {
   "display_name": "Python 3 (ipykernel)",
   "language": "python",
   "name": "python3"
  },
  "language_info": {
   "codemirror_mode": {
    "name": "ipython",
    "version": 3
   },
   "file_extension": ".py",
   "mimetype": "text/x-python",
   "name": "python",
   "nbconvert_exporter": "python",
   "pygments_lexer": "ipython3",
   "version": "3.10.11"
  }
 },
 "nbformat": 4,
 "nbformat_minor": 4
}
